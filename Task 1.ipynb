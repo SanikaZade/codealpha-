{
 "cells": [
  {
   "cell_type": "code",
   "execution_count": null,
   "id": "222de60f-4873-4ed3-a73d-1524000c592a",
   "metadata": {},
   "outputs": [
    {
     "name": "stdout",
     "output_type": "stream",
     "text": [
      "Welcome to Hangman!\n",
      "You have 6 chances to guess the word.\n",
      "_ _ _\n"
     ]
    },
    {
     "name": "stdin",
     "output_type": "stream",
     "text": [
      "Guess a letter:  c\n"
     ]
    },
    {
     "name": "stdout",
     "output_type": "stream",
     "text": [
      "Incorrect guess. You have 5 chances left.\n",
      "_ _ _\n"
     ]
    }
   ],
   "source": [
    "import random\n",
    "\n",
    "\n",
    "words = ['apple', 'banana', 'cherry', 'date', 'elderberry', 'fig', 'grape']\n",
    "word = random.choice(words)\n",
    "guessed = ['_'] * len(word)\n",
    "limit = 6\n",
    "\n",
    "incorrect_guesses = 0\n",
    "\n",
    "print(\"Welcome to Hangman!\")\n",
    "print(\"You have\", limit, \"chances to guess the word.\")\n",
    "\n",
    "while True:\n",
    "    print(' '.join(guessed))\n",
    "    guess = input(\"Guess a letter: \").lower()\n",
    "    if guess in word:\n",
    "        for i in range(len(word)):\n",
    "            if word[i] == guess:\n",
    "                guessed[i] = guess\n",
    "    else:\n",
    "        incorrect_guesses += 1\n",
    "        print(\"Incorrect guess. You have\", limit - incorrect_guesses, \"chances left.\")\n",
    "    if '_' not in guessed:\n",
    "        print(' '.join(guessed))\n",
    "        print(\"Congratulations, you won!\")\n",
    "        break\n",
    "    if incorrect_guesses == limit:\n",
    "        print(\"Game over. The word was\", word)\n",
    "        break"
   ]
  },
  {
   "cell_type": "code",
   "execution_count": null,
   "id": "e066d10b-8657-4641-99dd-ac1409c77379",
   "metadata": {},
   "outputs": [],
   "source": []
  }
 ],
 "metadata": {
  "kernelspec": {
   "display_name": "Python 3 (ipykernel)",
   "language": "python",
   "name": "python3"
  },
  "language_info": {
   "codemirror_mode": {
    "name": "ipython",
    "version": 3
   },
   "file_extension": ".py",
   "mimetype": "text/x-python",
   "name": "python",
   "nbconvert_exporter": "python",
   "pygments_lexer": "ipython3",
   "version": "3.11.7"
  }
 },
 "nbformat": 4,
 "nbformat_minor": 5
}
