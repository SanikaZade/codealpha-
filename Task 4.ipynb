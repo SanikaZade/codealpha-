{
 "cells": [
  {
   "cell_type": "code",
   "execution_count": 3,
   "id": "6c91f108-a492-4d77-b5b4-7cca71b8f740",
   "metadata": {},
   "outputs": [
    {
     "name": "stdout",
     "output_type": "stream",
     "text": [
      "File organization complete!\n"
     ]
    }
   ],
   "source": [
    "\n",
    "root_dir = '/path/to/your/directory'\n",
    "extension_folders = {\n",
    "    'pdf': 'PDFs',\n",
    "    'docx': 'Documents',\n",
    "    'jpg': 'Images',\n",
    "    'mp3': 'Audio',\n",
    "}\n",
    "def create_folder(folder_name):\n",
    "    try:\n",
    "        folder_path = root_dir + '/' + folder_name\n",
    "        os_command = f'mkdir {folder_path}'\n",
    "        __import__('os').system(os_command)\n",
    "    except Exception as e:\n",
    "        print(f\"Error creating folder: {e}\")\n",
    "\n",
    "def move_file(file_name, folder_name):\n",
    "    try:\n",
    "        src_path = root_dir + '/' + file_name\n",
    "        dst_path = root_dir + '/' + folder_name + '/' + file_name\n",
    "        os_command = f'mv {src_path} {dst_path}'\n",
    "        __import__('os').system(os_command)\n",
    "    except Exception as e:\n",
    "        print(f\"Error moving file: {e}\")\n",
    "\n",
    "def list_files():\n",
    "    try:\n",
    "        os_command = f'ls {root_dir}'\n",
    "        files = __import__('os').popen(os_command).read().split('\\n')\n",
    "        return files\n",
    "    except Exception as e:\n",
    "        print(f\"Error listing files: {e}\")\n",
    "\n",
    "files = list_files()\n",
    "for filename in files:\n",
    "    if filename == '':\n",
    "        continue\n",
    "\n",
    "    file_ext = filename.split('.')[-1].lower()\n",
    "\n",
    "    if file_ext in extension_folders:\n",
    "        folder_path = root_dir + '/' + extension_folders[file_ext]\n",
    "        os_command = f'test -d {folder_path} || mkdir {folder_path}'\n",
    "        __import__('os').system(os_command)\n",
    "\n",
    "        move_file(filename, extension_folders[file_ext])\n",
    "        print(f\"Moved {filename} to {extension_folders[file_ext]}\")\n",
    "    else:\n",
    "        print(f\"Unknown file extension: {file_ext}\")\n",
    "\n",
    "print(\"File organization complete!\")"
   ]
  },
  {
   "cell_type": "code",
   "execution_count": null,
   "id": "40e8d1ae-3463-47d5-8433-7f305512b5ee",
   "metadata": {},
   "outputs": [],
   "source": []
  }
 ],
 "metadata": {
  "kernelspec": {
   "display_name": "Python 3 (ipykernel)",
   "language": "python",
   "name": "python3"
  },
  "language_info": {
   "codemirror_mode": {
    "name": "ipython",
    "version": 3
   },
   "file_extension": ".py",
   "mimetype": "text/x-python",
   "name": "python",
   "nbconvert_exporter": "python",
   "pygments_lexer": "ipython3",
   "version": "3.11.7"
  }
 },
 "nbformat": 4,
 "nbformat_minor": 5
}
