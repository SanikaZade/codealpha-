{
 "cells": [
  {
   "cell_type": "code",
   "execution_count": 3,
   "id": "2c2c51b2-b971-478e-b7b5-c80cb8b29022",
   "metadata": {},
   "outputs": [
    {
     "name": "stdout",
     "output_type": "stream",
     "text": [
      "AAPL: 150.0 x 10 = 1500.0\n",
      "GOOG: 2500.0 x 5 = 12500.0\n",
      "Total portfolio value: 14000.0\n",
      "Portfolio return: 8.33%\n"
     ]
    }
   ],
   "source": [
    "class StockPortfolio:\n",
    "    def __init__(self):\n",
    "        self.portfolio = {}\n",
    "\n",
    "    def add_stock(self, ticker, quantity):\n",
    "        self.portfolio[ticker] = {'quantity': quantity, 'cost_basis': 0}\n",
    "\n",
    "    def remove_stock(self, ticker):\n",
    "        if ticker in self.portfolio:\n",
    "            del self.portfolio[ticker]\n",
    "\n",
    "    def update_cost_basis(self, ticker, cost_basis):\n",
    "        if ticker in self.portfolio:\n",
    "            self.portfolio[ticker]['cost_basis'] = cost_basis\n",
    "\n",
    "    def track_performance(self):\n",
    "        total_value = 0\n",
    "        for ticker, info in self.portfolio.items():\n",
    "            # Simulate getting current stock price from API\n",
    "            current_price = self.get_current_price(ticker)\n",
    "            total_value += current_price * info['quantity']\n",
    "            print(f'{ticker}: {current_price} x {info[\"quantity\"]} = {current_price * info[\"quantity\"]}')\n",
    "        print(f'Total portfolio value: {total_value}')\n",
    "\n",
    "    def get_portfolio_value(self):\n",
    "        total_value = 0\n",
    "        for ticker, info in self.portfolio.items():\n",
    "            # Simulate getting current stock price from API\n",
    "            current_price = self.get_current_price(ticker)\n",
    "            total_value += current_price * info['quantity']\n",
    "        return total_value\n",
    "\n",
    "    def get_portfolio_return(self):\n",
    "        total_value = self.get_portfolio_value()\n",
    "        total_cost_basis = sum([info['cost_basis'] for info in self.portfolio.values()])\n",
    "        return (total_value - total_cost_basis) / total_cost_basis\n",
    "\n",
    "    def get_current_price(self, ticker):\n",
    "        \n",
    "        prices = {\n",
    "            'AAPL': 150.0,\n",
    "            'GOOG': 2500.0,\n",
    "            # Ad\n",
    "        }\n",
    "        return prices.get(ticker, 0.0)\n",
    "\n",
    "def main():\n",
    "    portfolio = StockPortfolio()\n",
    "    portfolio.add_stock('AAPL', 10)\n",
    "    portfolio.add_stock('GOOG', 5)\n",
    "    portfolio.update_cost_basis('AAPL', 1000)\n",
    "    portfolio.update_cost_basis('GOOG', 500)\n",
    "    portfolio.track_performance()\n",
    "    print(f'Portfolio return: {portfolio.get_portfolio_return():.2f}%')\n",
    "\n",
    "if __name__ == '__main__':\n",
    "    main()"
   ]
  },
  {
   "cell_type": "code",
   "execution_count": null,
   "id": "3b1b0b77-6d15-440e-bffd-01653e2e5fbe",
   "metadata": {},
   "outputs": [],
   "source": []
  }
 ],
 "metadata": {
  "kernelspec": {
   "display_name": "Python 3 (ipykernel)",
   "language": "python",
   "name": "python3"
  },
  "language_info": {
   "codemirror_mode": {
    "name": "ipython",
    "version": 3
   },
   "file_extension": ".py",
   "mimetype": "text/x-python",
   "name": "python",
   "nbconvert_exporter": "python",
   "pygments_lexer": "ipython3",
   "version": "3.11.7"
  }
 },
 "nbformat": 4,
 "nbformat_minor": 5
}
